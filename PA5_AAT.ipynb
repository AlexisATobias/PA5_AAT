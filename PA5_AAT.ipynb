{
 "cells": [
  {
   "cell_type": "markdown",
   "id": "68065c23",
   "metadata": {},
   "source": [
    "# PA5\n",
    "## Created by: Alexis Tobias\n",
    "### Python 3 \n",
    "### Fall 2023"
   ]
  },
  {
   "cell_type": "markdown",
   "id": "2ba440e8",
   "metadata": {},
   "source": [
    "# Task 1: Language Translator"
   ]
  },
  {
   "cell_type": "code",
   "execution_count": 75,
   "id": "aba5c6f7",
   "metadata": {},
   "outputs": [
    {
     "name": "stdout",
     "output_type": "stream",
     "text": [
      "hello\n",
      "goodbye\n",
      "woman\n",
      "english\n",
      "spanish\n",
      "excuse me\n",
      "yes\n",
      "no\n",
      "please\n",
      "thank you\n",
      "you are welcome\n",
      "Enter a word to translate from English to Spanish (enter 0 to stop):0\n"
     ]
    },
    {
     "ename": "TypeError",
     "evalue": "string indices must be integers, not 'str'",
     "output_type": "error",
     "traceback": [
      "\u001b[1;31m---------------------------------------------------------------------------\u001b[0m",
      "\u001b[1;31mTypeError\u001b[0m                                 Traceback (most recent call last)",
      "Cell \u001b[1;32mIn[75], line 20\u001b[0m\n\u001b[0;32m     18\u001b[0m \u001b[38;5;28;01mif\u001b[39;00m Translate \u001b[38;5;129;01min\u001b[39;00m Language_Translator:\n\u001b[0;32m     19\u001b[0m     \u001b[38;5;28mprint\u001b[39m(\u001b[38;5;124m'\u001b[39m\u001b[38;5;124mThe Spanish word for\u001b[39m\u001b[38;5;124m'\u001b[39m , Translate , \u001b[38;5;124m'\u001b[39m\u001b[38;5;124mis\u001b[39m\u001b[38;5;124m'\u001b[39m , (Language_Translator[Translate]))\n\u001b[1;32m---> 20\u001b[0m \u001b[38;5;28;01melif\u001b[39;00m Translate [\u001b[38;5;124m'\u001b[39m\u001b[38;5;124m0\u001b[39m\u001b[38;5;124m'\u001b[39m]:\n\u001b[0;32m     21\u001b[0m     \u001b[38;5;28mprint\u001b[39m(\u001b[38;5;124m\"\u001b[39m\u001b[38;5;124mThank you for using our translator.\u001b[39m\u001b[38;5;124m\"\u001b[39m)\n\u001b[0;32m     22\u001b[0m \u001b[38;5;28;01melse\u001b[39;00m:    \n",
      "\u001b[1;31mTypeError\u001b[0m: string indices must be integers, not 'str'"
     ]
    }
   ],
   "source": [
    "#Key words are English and value words are Spanish.\n",
    "Language_Translator={\n",
    "      'hello'          : 'hola',\n",
    "      'goodbye'        : 'adiós',\n",
    "      'woman'          : 'mujer',\n",
    "      'english'        : 'inglés',\n",
    "      'spanish'        : 'español',\n",
    "      'excuse me'      : 'disculpe',\n",
    "      'yes'            : 'sí',\n",
    "      'no'             : 'no',\n",
    "      'please'         : 'por favor',\n",
    "      'thank you'      : 'gracias',\n",
    "      'you are welcome': 'de nada'}\n",
    "for key in Language_Translator.keys():\n",
    "    print(key)\n",
    "type(Language_Translator)\n",
    "Translate=(input(\"Enter a word to translate from English to Spanish (enter 0 to stop):\"))\n",
    "if Translate in Language_Translator:\n",
    "    print('The Spanish word for' , Translate , 'is' , (Language_Translator[Translate]))\n",
    "elif \n",
    "    print(\"The Spanish word for\", Transate , \"is not in this dictionary.\")\n",
    "Translate ['0']:\n",
    "    print(\"Thank you for using our translator.\")\n",
    "else:    "
   ]
  },
  {
   "cell_type": "code",
   "execution_count": 25,
   "id": "0715e0e4",
   "metadata": {},
   "outputs": [],
   "source": [
    "if Translate == key:\n",
    "        print(value)\n",
    "if Translate == Language_Translator.keys():\n",
    "    print(Language_Translator.values())\n",
    "if Translate == key:\n",
    "        print(value)"
   ]
  },
  {
   "cell_type": "code",
   "execution_count": null,
   "id": "f4dd42b6",
   "metadata": {},
   "outputs": [],
   "source": [
    "Translate=for key in Language_Translator.keys()):\n",
    "    print('The Spanish word for ','Language_Translator.key()', 'is ','Language_Translator.value()')\n",
    "\n",
    "              \n",
    "    elif (grade>=80):\n",
    "    print(\"Your grade of \",grade,\"% is a \",\"B\")\n",
    "'The Spanish word for ','Language_Translator.key()', 'is ','Language_Translator.value()'"
   ]
  },
  {
   "cell_type": "code",
   "execution_count": null,
   "id": "7ec310ae",
   "metadata": {},
   "outputs": [],
   "source": [
    "for value in Language_Translator.value():\n",
    "    print(value)"
   ]
  },
  {
   "cell_type": "code",
   "execution_count": 22,
   "id": "bb268039",
   "metadata": {},
   "outputs": [
    {
     "name": "stdout",
     "output_type": "stream",
     "text": [
      "hello\n",
      "goodbye\n",
      "woman\n",
      "english\n",
      "spanish\n",
      "excuse me\n",
      "yes\n",
      "no\n",
      "please\n",
      "thank you\n",
      "you are welcome\n",
      "hola\n",
      "adiós\n",
      "mujer\n",
      "inglés\n",
      "español\n",
      "disculpe\n",
      "sí\n",
      "no\n",
      "por favor\n",
      "gracias\n",
      "de nada\n",
      "Enter a word to translate from English to Spanish (enter 0 to stop):hello\n"
     ]
    }
   ],
   "source": [
    "#Key words are English and value words are Spanish.\n",
    "Language_Translator={\n",
    "      'hello'          : 'hola',\n",
    "      'goodbye'        : 'adiós',\n",
    "      'woman'          : 'mujer',\n",
    "      'english'        : 'inglés',\n",
    "      'spanish'        : 'español',\n",
    "      'excuse me'      : 'disculpe',\n",
    "      'yes'            : 'sí',\n",
    "      'no'             : 'no',\n",
    "      'please'         : 'por favor',\n",
    "      'thank you'      : 'gracias',\n",
    "      'you are welcome': 'de nada'}\n",
    "for key in Language_Translator.keys():\n",
    "    print(key)\n",
    "for value in Language_Translator.values():\n",
    "    print(value)\n",
    "type(Language_Translator)\n",
    "Translate=(input(\"Enter a word to translate from English to Spanish (enter 0 to stop):\"))\n"
   ]
  },
  {
   "cell_type": "code",
   "execution_count": null,
   "id": "d15ef3b2",
   "metadata": {},
   "outputs": [],
   "source": []
  },
  {
   "cell_type": "markdown",
   "id": "cd219a5a",
   "metadata": {},
   "source": [
    "# Task 2: Temperature converter"
   ]
  },
  {
   "cell_type": "code",
   "execution_count": 63,
   "id": "17e4d9a0",
   "metadata": {},
   "outputs": [
    {
     "ename": "SyntaxError",
     "evalue": "positional argument follows keyword argument (2498392299.py, line 37)",
     "output_type": "error",
     "traceback": [
      "\u001b[1;36m  Cell \u001b[1;32mIn[63], line 37\u001b[1;36m\u001b[0m\n\u001b[1;33m    print(Celsius = (value - 32) * ( 5 / 9 ) , \"°C\" )\u001b[0m\n\u001b[1;37m                                                    ^\u001b[0m\n\u001b[1;31mSyntaxError\u001b[0m\u001b[1;31m:\u001b[0m positional argument follows keyword argument\n"
     ]
    }
   ],
   "source": [
    "temp_dict = {\n",
    "'Day 1': 'High:'\"88°F,\"'Low:''60°F',\n",
    "    'Day' '1': 'High:'\"88°F,\"'Low:''60°F',\n",
    "'Day 2' : 'High:'\"91°F,\"'Low:''72°F',\n",
    "'Day 3' : 'High:'\"92°F,\"'Low:''71°F',\n",
    "'Day 4' : 'High:'\"93°F,\"'Low:''69°F',\n",
    "'Day 5' : 'High:'\"90°F,\"'Low:''75°F',\n",
    "'Day 6' : 'High:'\"84°F,\"'Low:''73°F',\n",
    "'Day 7' : 'High:'\"77°F,\"'Low:''66°F',\n",
    "'Day 8' : 'High:'\"84°F,\"'Low:''66°F',\n",
    "'Day 9' : 'High:'\"81°F,\"'Low:''63°F',\n",
    "'Day 10' : 'High:'\"84°F,\"'Low:''64°F',\n",
    "'Day 11' : 'High:'\"87°F,\"'Low:''64°F',\n",
    "'Day 12' : 'High:'\"80°F,\"'Low:''66°F',\n",
    "'Day 13' : 'High:'\"81°F,\"'Low:''59°F',\n",
    "'Day 14' : 'High:'\"82°F,\"'Low:''56°F',\n",
    "'Day 15' : 'High:'\"81°F,\"'Low:''58°F',\n",
    "'Day 16' : 'High:'\"83°F,\"'Low:''57°F',\n",
    "'Day 17' : 'High:'\"79°F,\"'Low:''59°F',\n",
    "'Day 18' : 'High:'\"80°F,\"'Low:''56°F',\n",
    "'Day 19' : 'High:'\"81°F,\"'Low:''55°F',\n",
    "'Day 20' : 'High:'\"85°F,\"'Low:''59°F',\n",
    "'Day 21' : 'High:'\"86°F,\"'Low:''66°F',\n",
    "'Day 22' : 'High:'\"89°F,\"'Low:''63°F',\n",
    "'Day 23' : 'High:'\"83°F,\"'Low:''63°F',\n",
    "'Day 24' : 'High:'\"84°F,\"'Low:''58°F',\n",
    "'Day 25' : 'High:'\"87°F,\"'Low:''66°F',\n",
    "'Day 26' : 'High:'\"89°F,\"'Low:''63°F',\n",
    "'Day 27' : 'High:'\"83°F,\"'Low:''64°F',\n",
    "'Day 28' : 'High:'\"82°F,\"'Low:''64°F',\n",
    "'Day 29' : 'High:'\"85°F,\"'Low:''65°F',\n",
    "'Day 30' : 'High:'\"86°F,\"'Low:''61°F'}\n",
    "print(temp_dict)\n",
    "x = temp_dict.values()\n",
    "print(x)\n",
    "for value in temp_dict.values ():\n",
    "    print(Celsius = (value - 32) * ( 5 / 9 ) , \"°C\" ) \n",
    "\n"
   ]
  },
  {
   "cell_type": "code",
   "execution_count": null,
   "id": "cc7b7635",
   "metadata": {},
   "outputs": [],
   "source": [
    "[temp_dict]"
   ]
  },
  {
   "cell_type": "code",
   "execution_count": 14,
   "id": "ed419f55",
   "metadata": {},
   "outputs": [
    {
     "name": "stdout",
     "output_type": "stream",
     "text": [
      "{'Day 1': 'High:88°,Low:60°'}\n"
     ]
    }
   ],
   "source": [
    "lst = temp_dict\n",
    "for dic in lst: \n",
    "  print(dic[\"Day\"])\n",
    "\n"
   ]
  },
  {
   "cell_type": "code",
   "execution_count": null,
   "id": "5c6eebee",
   "metadata": {},
   "outputs": [],
   "source": [
    "for i in range(len(temp_dict)):\n",
    "    print (temp_dict[i]['Day 1'])\n"
   ]
  },
  {
   "cell_type": "code",
   "execution_count": 62,
   "id": "e9796007",
   "metadata": {},
   "outputs": [
    {
     "ename": "NameError",
     "evalue": "name 'Fahrenheit' is not defined",
     "output_type": "error",
     "traceback": [
      "\u001b[1;31m---------------------------------------------------------------------------\u001b[0m",
      "\u001b[1;31mNameError\u001b[0m                                 Traceback (most recent call last)",
      "Cell \u001b[1;32mIn[62], line 2\u001b[0m\n\u001b[0;32m      1\u001b[0m Fahreneit \u001b[38;5;241m=\u001b[39m temp_dict\u001b[38;5;241m.\u001b[39mvalues ()    \n\u001b[1;32m----> 2\u001b[0m Celsius \u001b[38;5;241m=\u001b[39m (Fahrenheit \u001b[38;5;241m-\u001b[39m \u001b[38;5;241m32\u001b[39m) \u001b[38;5;241m*\u001b[39m ( \u001b[38;5;241m5\u001b[39m \u001b[38;5;241m/\u001b[39m \u001b[38;5;241m9\u001b[39m ) , \u001b[38;5;124m\"\u001b[39m\u001b[38;5;124m°C\u001b[39m\u001b[38;5;124m\"\u001b[39m   \n\u001b[0;32m      4\u001b[0m Fahreneit \u001b[38;5;241m=\u001b[39m temp_dict\u001b[38;5;241m.\u001b[39mvalues ()    \n\u001b[0;32m      5\u001b[0m Celsius \u001b[38;5;241m=\u001b[39m (Fahrenheit \u001b[38;5;241m-\u001b[39m \u001b[38;5;241m32\u001b[39m) \u001b[38;5;241m*\u001b[39m ( \u001b[38;5;241m5\u001b[39m \u001b[38;5;241m/\u001b[39m \u001b[38;5;241m9\u001b[39m ) , \u001b[38;5;124m\"\u001b[39m\u001b[38;5;124m°C\u001b[39m\u001b[38;5;124m\"\u001b[39m\n",
      "\u001b[1;31mNameError\u001b[0m: name 'Fahrenheit' is not defined"
     ]
    }
   ],
   "source": [
    "Fahreneit = temp_dict.values ()    \n",
    "Celsius = (Fahrenheit - 32) * ( 5 / 9 ) , \"°C\"   \n",
    "\n",
    "Fahreneit = temp_dict.values ()    \n",
    "Celsius = (Fahrenheit - 32) * ( 5 / 9 ) , \"°C\"   "
   ]
  },
  {
   "cell_type": "code",
   "execution_count": null,
   "id": "fce2f85e",
   "metadata": {},
   "outputs": [],
   "source": []
  }
 ],
 "metadata": {
  "kernelspec": {
   "display_name": "Python 3 (ipykernel)",
   "language": "python",
   "name": "python3"
  },
  "language_info": {
   "codemirror_mode": {
    "name": "ipython",
    "version": 3
   },
   "file_extension": ".py",
   "mimetype": "text/x-python",
   "name": "python",
   "nbconvert_exporter": "python",
   "pygments_lexer": "ipython3",
   "version": "3.11.5"
  }
 },
 "nbformat": 4,
 "nbformat_minor": 5
}
